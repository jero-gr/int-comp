{
 "cells": [
  {
   "cell_type": "markdown",
   "id": "9417b8c8-25c3-40d0-87de-4da6ae4ac1e8",
   "metadata": {
    "id": "9417b8c8-25c3-40d0-87de-4da6ae4ac1e8"
   },
   "source": [
    "# TP de Lógica Difusa\n",
    "\n",
    "## Control de temperatura de una habitación mediante un controlador difuso"
   ]
  },
  {
   "cell_type": "markdown",
   "id": "f02303c3-56fa-4c5a-823c-02713e9b50c4",
   "metadata": {
    "id": "f02303c3-56fa-4c5a-823c-02713e9b50c4"
   },
   "source": [
    "**Descripción del problema**\n",
    "\n",
    "En un laboratorio industrial se requiere mantener la temperatura ambiente ($T_{i}$) en valores constantes ($R$) de forma de poder asegurar la calidad en una\n",
    "etapa crı́tica en la producción. La habitación es de 3 × 2 × 2 m, con paredes de ladrillo de 15 cm y una única entrada con un sistema de cierre automático\n",
    "que asegura un tiempo máximo de apertura de 10 s. Dicha puerta se abre una vez por hora, cuando el personal debe ingresar para realizar tareas de manteniemiento.\n",
    "\n",
    "Para lograr controlar la temperatura en la habitación se dispone de un sistema de convección con una resistencia calefactora (no incandescente) y un aire acondicionado. Ambos dispositivos poseen interruptores que permiten regular el trabajo que realizan (rango 0-100%, siendo 100% el funcionamiento máximo del equipo).\n",
    "\n",
    "La habitación puede experimentar cambios en la $T_{i}$ debido principalmente a 4 factores:\n",
    "\n",
    "1. Calor aportado desde el exterior a través de las paredes,\n",
    "2. Corriente que circula por la resistencia calefactora,\n",
    "3. Tensión aplicada al sistema de refrigeración,\n",
    "4. Calor que ingresa al abrir la puerta.\n",
    "\n",
    "Se desea diseñar 2 sistemas difusos para controlar los sistemas de regulación de temperatura, de manera de preservar la temperatura interna de acuerdo a los valores de referencia preestablecidos.\n",
    "\n",
    "Para probar los controladores se provee un modelo digital de la habitación, y un conjunto de condiciones para la simulación que reflejan el típico comportamiento de la habitación.\n",
    "\n",
    "Se solicita que:\n",
    "\n",
    "- El sistema diseñado provea un error de control acumulado inferior a 1300 $°C/h$ (este valor se provee automáticamente al finalizar la simulación).\n",
    "\n",
    "- Analice las características del sistema diseñado y discuta las limitaciones que identifique."
   ]
  },
  {
   "cell_type": "markdown",
   "id": "KPyGxqWoB7Bf",
   "metadata": {
    "id": "KPyGxqWoB7Bf"
   },
   "source": [
    "![habitacion.png](data:image/png;base64,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)"
   ]
  },
  {
   "cell_type": "markdown",
   "id": "a80f4a0c-7277-4adf-9da6-0a7bab269d53",
   "metadata": {
    "id": "a80f4a0c-7277-4adf-9da6-0a7bab269d53"
   },
   "source": [
    "### Instalación y carga de librerías"
   ]
  },
  {
   "cell_type": "code",
   "execution_count": null,
   "id": "77f142b8-c7c2-44ae-b423-9aee5ffe84c7",
   "metadata": {
    "colab": {
     "base_uri": "https://localhost:8080/"
    },
    "executionInfo": {
     "elapsed": 10776,
     "status": "ok",
     "timestamp": 1656283037431,
     "user": {
      "displayName": "Matias Gerard",
      "userId": "14742050363958170468"
     },
     "user_tz": 180
    },
    "id": "77f142b8-c7c2-44ae-b423-9aee5ffe84c7",
    "outputId": "8f93c2c6-fbfb-46ec-eb23-41fa7e632a84"
   },
   "outputs": [],
   "source": [
    "!pip install -U scikit-fuzzy --quiet"
   ]
  },
  {
   "cell_type": "code",
   "execution_count": null,
   "id": "e3882155-922e-46bd-b603-3b0458ee6421",
   "metadata": {
    "executionInfo": {
     "elapsed": 547,
     "status": "ok",
     "timestamp": 1656283037960,
     "user": {
      "displayName": "Matias Gerard",
      "userId": "14742050363958170468"
     },
     "user_tz": 180
    },
    "id": "e3882155-922e-46bd-b603-3b0458ee6421"
   },
   "outputs": [],
   "source": [
    "import numpy as np\n",
    "import matplotlib.pyplot as plt\n",
    "\n",
    "import skfuzzy as fuzz\n",
    "from skfuzzy import control as ctrl"
   ]
  },
  {
   "cell_type": "markdown",
   "id": "b2872fe0-7dab-40b7-adf7-f03f3fb4ddf6",
   "metadata": {
    "id": "b2872fe0-7dab-40b7-adf7-f03f3fb4ddf6"
   },
   "source": [
    "## Construcción del controlador difuso\n",
    "\n",
    "En esta Sección se debe diseñar el controlador difuso que manejará el sistema de temperaturas."
   ]
  },
  {
   "cell_type": "markdown",
   "id": "174d117d-52d2-44b0-a66c-43a7c0a04a85",
   "metadata": {
    "id": "174d117d-52d2-44b0-a66c-43a7c0a04a85"
   },
   "source": [
    "**CALEFACTOR**"
   ]
  },
  {
   "cell_type": "code",
   "execution_count": null,
   "id": "8cfc76b9-04c3-4f25-8556-be439d1c2885",
   "metadata": {
    "executionInfo": {
     "elapsed": 359,
     "status": "ok",
     "timestamp": 1656283045156,
     "user": {
      "displayName": "Matias Gerard",
      "userId": "14742050363958170468"
     },
     "user_tz": 180
    },
    "id": "8cfc76b9-04c3-4f25-8556-be439d1c2885"
   },
   "outputs": [],
   "source": [
    "# ANTECEDENTES\n",
    "\n",
    "\n",
    "# CONSECUENTES\n",
    "\n",
    "\n",
    "\n",
    "# ERROR - CONJUNTOS DIFUSOS\n",
    "\n",
    "\n",
    "# SALIDA - CONJUNTOS DIFUSOS\n",
    "\n",
    "\n",
    "\n",
    "# REGLAS BORROSAS\n",
    "\n",
    "\n",
    "#----------\n",
    "\n",
    "\n",
    "\n",
    "# CONSTRUYO LA MAQUINA DE INFERENCIA\n",
    "#controlador_calefaccion = ctrl.ControlSystemSimulation(fuzzy_rules)"
   ]
  },
  {
   "cell_type": "markdown",
   "id": "845eca2a-25d7-4a99-849f-00b7303c8c5f",
   "metadata": {
    "id": "845eca2a-25d7-4a99-849f-00b7303c8c5f"
   },
   "source": [
    "**AIRE ACONDICIONADO**"
   ]
  },
  {
   "cell_type": "code",
   "execution_count": null,
   "id": "815c5b92-e4a9-48b3-9f7b-49dad5c8f4d5",
   "metadata": {
    "executionInfo": {
     "elapsed": 6,
     "status": "ok",
     "timestamp": 1656283058318,
     "user": {
      "displayName": "Matias Gerard",
      "userId": "14742050363958170468"
     },
     "user_tz": 180
    },
    "id": "815c5b92-e4a9-48b3-9f7b-49dad5c8f4d5"
   },
   "outputs": [],
   "source": [
    "# ANTECEDENTES\n",
    "\n",
    "\n",
    "# CONSECUENTES\n",
    "\n",
    "\n",
    "\n",
    "# ERROR - CONJUNTOS DIFUSOS\n",
    "\n",
    "\n",
    "# SALIDA - CONJUNTOS DIFUSOS\n",
    "\n",
    "\n",
    "\n",
    "# REGLAS BORROSAS\n",
    "\n",
    "\n",
    "#----------\n",
    "\n",
    "\n",
    "\n",
    "# CONSTRUYO LA MAQUINA DE INFERENCIA\n",
    "#controlador_refrigeracion = ctrl.ControlSystemSimulation(fuzzy_rules)"
   ]
  },
  {
   "cell_type": "markdown",
   "id": "d46fbcb6-bcdc-4ea3-8c4a-7c45b8e770ac",
   "metadata": {
    "id": "d46fbcb6-bcdc-4ea3-8c4a-7c45b8e770ac"
   },
   "source": [
    "**CONTROL DE TEMPERATURA**"
   ]
  },
  {
   "cell_type": "code",
   "execution_count": null,
   "id": "b0692f97-36c8-4e37-afcd-c8328ba69038",
   "metadata": {
    "executionInfo": {
     "elapsed": 19,
     "status": "aborted",
     "timestamp": 1656283037961,
     "user": {
      "displayName": "Matias Gerard",
      "userId": "14742050363958170468"
     },
     "user_tz": 180
    },
    "id": "b0692f97-36c8-4e37-afcd-c8328ba69038"
   },
   "outputs": [],
   "source": [
    "def controlador_difuso(dT):\n",
    "    '''\n",
    "    Esta función implementa el controlador difuso.\n",
    "    Toma como argumento la diferencia de temperatura respecto de la referencia (dT = Tr - Ti) y define\n",
    "    las acciones a tomar. Para eso, determina los valores de \"voltaje\" que debe aplicar al aire\n",
    "    acondicionado y la \"corriente\" que debe aplcar al sistema calefactor para reducir el error.\n",
    "    '''\n",
    "    \n",
    "    #-------------------------------\n",
    "    # Tr == Ti: TEMPERATURA DESEADA\n",
    "    #-------------------------------\n",
    "    if (dT == 0):\n",
    "        corriente = 0\n",
    "        voltaje = 0\n",
    "    \n",
    "    #-------------------------------\n",
    "    # Tr > Ti: HABITACION FRIA\n",
    "    #-------------------------------\n",
    "    if (dT > 0):\n",
    "        controlador_calefaccion.input['error'] = np.abs(dT)\n",
    "        controlador_calefaccion.compute()        \n",
    "        corriente = controlador_calefaccion.output['salida']\n",
    "        \n",
    "        voltaje = 0\n",
    "    \n",
    "    #-------------------------------\n",
    "    # Tr < Ti: HABITACION CALIENTE\n",
    "    #-------------------------------\n",
    "    else:\n",
    "        corriente = 0\n",
    "        \n",
    "        controlador_refrigeracion.input['error'] = np.abs(dT)\n",
    "        controlador_refrigeracion.compute()        \n",
    "        voltaje = controlador_refrigeracion.output['salida']\n",
    "            \n",
    "    return corriente, voltaje"
   ]
  },
  {
   "cell_type": "markdown",
   "id": "c866a464-0718-4793-bfa0-b0276f48f38f",
   "metadata": {
    "id": "c866a464-0718-4793-bfa0-b0276f48f38f"
   },
   "source": [
    "## Simulación"
   ]
  },
  {
   "cell_type": "code",
   "execution_count": null,
   "id": "4004f0c8-2381-4d48-9a09-87ab8c5cd603",
   "metadata": {
    "executionInfo": {
     "elapsed": 271,
     "status": "ok",
     "timestamp": 1656283066452,
     "user": {
      "displayName": "Matias Gerard",
      "userId": "14742050363958170468"
     },
     "user_tz": 180
    },
    "id": "4004f0c8-2381-4d48-9a09-87ab8c5cd603"
   },
   "outputs": [],
   "source": [
    "def habitacion(Ti, Te, a, corriente, voltaje):\n",
    "    '''\n",
    "    Esta función simula como cambia la temperatura dentro de la habitación en base a los argumentos recibidos.\n",
    "    \n",
    "    Ti: Temperatura interna de la habitación en el instante n-1 [°C]\n",
    "    Te: Temperatura externa de la habitación en el instante n [°C]\n",
    "    p: Probabilidad de que se habra la puerta una vez por hora.\n",
    "    '''\n",
    "    \n",
    "    if a == 1:\n",
    "      Ti = 0.169 * Ti + 0.831 * Te + 11.2 * ((corriente/100)**2) - 0.2 * voltaje/100  # PUERTA ABIERTA\n",
    "    else:\n",
    "      Ti = 0.912 * Ti + 0.088 * Te + 60.4 * ((corriente/100)**2) - 1.21 * voltaje/100  # PUERTA CERRADA\n",
    "    \n",
    "    return Ti"
   ]
  },
  {
   "cell_type": "markdown",
   "id": "c7a11e20-d19a-447e-b172-c5b33b26cc9b",
   "metadata": {
    "id": "c7a11e20-d19a-447e-b172-c5b33b26cc9b"
   },
   "source": [
    "## INICIALIZACION DE PARAMETROS DE LA SIMULACION"
   ]
  },
  {
   "cell_type": "code",
   "execution_count": null,
   "id": "00678256-63f6-40b5-8ddf-6588e45419fb",
   "metadata": {
    "executionInfo": {
     "elapsed": 7,
     "status": "ok",
     "timestamp": 1656283067704,
     "user": {
      "displayName": "Matias Gerard",
      "userId": "14742050363958170468"
     },
     "user_tz": 180
    },
    "id": "00678256-63f6-40b5-8ddf-6588e45419fb"
   },
   "outputs": [],
   "source": [
    "Tinicial = 25  # [°C]\n",
    "\n",
    "t_simulacion = 3600  # [s]\n",
    "tm = 10  # Período de muestreo [s]\n",
    "\n",
    "\n",
    "#================================================================\n",
    "# Error entre la temperatura de la habitación y la de referencia\n",
    "#================================================================\n",
    "dT = np.zeros( t_simulacion//tm + 1)\n",
    "\n",
    "\n",
    "#======================================\n",
    "# Temperatura dentro de la habitación\n",
    "#======================================\n",
    "Ti = np.zeros( t_simulacion//tm )\n",
    "Ti[0] = Tinicial\n",
    "Ti[1] = Tinicial\n",
    "\n",
    "\n",
    "#======================================\n",
    "# Temperatura externa a la habitación\n",
    "#====================================== \n",
    "Te = np.concatenate((20 * np.ones(600), # \n",
    "                     15 * np.ones(600), #\n",
    "                     20 * np.ones(600), #\n",
    "                     10 * np.ones(600), #\n",
    "                     20 * np.ones(600), #\n",
    "                     25 * np.ones(600))) #\n",
    "\n",
    "Te = Te[0::tm]  # Muestreo de la señal\n",
    "\n",
    "\n",
    "#==============================\n",
    "# Temperatura de referencia\n",
    "#==============================\n",
    "Tr = np.concatenate((18 * np.ones(600), # \n",
    "                     22 * np.ones(600), #\n",
    "                     18 * np.ones(600), #\n",
    "                     22 * np.ones(600), #\n",
    "                     18 * np.ones(600), #\n",
    "                     22 * np.ones(600))) #\n",
    "\n",
    "Tr = Tr[0::tm]  # Muestreo de la señal\n",
    "\n",
    "\n",
    "#=================================================================================\n",
    "# Apertura de la puerta (vector binario indicando con \"1\" si se abrió la puerta)\n",
    "#=================================================================================\n",
    "n = 1  # Cantidad de veces que se abre la puerta por hora\n",
    "a = np.zeros(t_simulacion//tm)\n",
    "a[:n] = 1\n",
    "a = np.random.permutation(a)\n",
    "\n",
    "\n",
    "#======================================\n",
    "# Corriente alimentada al calefactor\n",
    "#======================================\n",
    "corriente = np.zeros( t_simulacion//tm )\n",
    "\n",
    "\n",
    "#================================================\n",
    "# Voltaje aplicado al sistema de refrigeración\n",
    "#================================================\n",
    "voltaje = np.zeros( t_simulacion//tm )"
   ]
  },
  {
   "cell_type": "code",
   "execution_count": null,
   "id": "940965d5-2a86-4923-bfb0-58c92c3d94bc",
   "metadata": {
    "executionInfo": {
     "elapsed": 9,
     "status": "ok",
     "timestamp": 1656283068078,
     "user": {
      "displayName": "Matias Gerard",
      "userId": "14742050363958170468"
     },
     "user_tz": 180
    },
    "id": "940965d5-2a86-4923-bfb0-58c92c3d94bc"
   },
   "outputs": [],
   "source": [
    "muestras = range(1, t_simulacion//tm)\n",
    "\n",
    "for n in muestras:\n",
    "    \n",
    "    # CALCULO EL ERROR DE TEMPERATURA\n",
    "    dT[n] = Tr[n-1] - Ti[n-1]\n",
    "    \n",
    "    \n",
    "    ##########################################################################\n",
    "    # APLICO EL CONTROLADOR DIFUSO\n",
    "    #################################\n",
    "    \n",
    "    #corriente[n], voltaje[n] = controlador_difuso(dT[n])\n",
    "    \n",
    "    ##########################################################################\n",
    "    \n",
    "    # CALCULO EL VALOR DE LA TEMPERATURA INTERNA DE LA HABITACION\n",
    "    Ti[n] = habitacion( Ti[n-1], Te[n], a[n], corriente[n], voltaje[n] )\n",
    "\n",
    "SSE = (dT**2).sum()"
   ]
  },
  {
   "cell_type": "code",
   "execution_count": null,
   "id": "4c1a824c-9478-411b-a3ee-93c1549a8551",
   "metadata": {
    "colab": {
     "base_uri": "https://localhost:8080/",
     "height": 1000
    },
    "executionInfo": {
     "elapsed": 1853,
     "status": "ok",
     "timestamp": 1656283071017,
     "user": {
      "displayName": "Matias Gerard",
      "userId": "14742050363958170468"
     },
     "user_tz": 180
    },
    "id": "4c1a824c-9478-411b-a3ee-93c1549a8551",
    "outputId": "ac1f69bd-4c4a-450c-8a46-5062357f4090"
   },
   "outputs": [],
   "source": [
    "fig, ax = plt.subplots(2, 1, figsize=(30,20))\n",
    "\n",
    "tiempo = range(t_simulacion//tm)\n",
    "\n",
    "ax[0].plot(tiempo, Te, color='blue', linestyle='--', lw=3, label=u'$T_{externa}$')\n",
    "ax[0].plot(tiempo, Tr, color='green', linestyle=':', lw=3, label=u'$T_{referencia}$')\n",
    "ax[0].plot(tiempo, Ti, color='orange', linestyle='-', lw=3, label=u'$T_{interna}$')\n",
    "ax[0].plot(tiempo, dT[1:], color='magenta', linestyle='--', lw=1, label=u'$dT$')\n",
    "ax[0].set_title(f'Error acumulado por el controlador: {SSE:0.3}', fontsize=18)\n",
    "ax[0].set_xlabel('Tiempo de simulación [segundos]', fontsize=18)\n",
    "ax[0].set_ylabel('Temperatura [°C]', fontsize=18)\n",
    "ax[0].set_xlim([0, t_simulacion//tm])\n",
    "ax[0].grid(True)\n",
    "ax[0].legend(fontsize=14)\n",
    "\n",
    "\n",
    "ax[1].plot(tiempo, voltaje, color='blue', linestyle=':', lw=3, label=u'Refrigeracion')\n",
    "ax[1].plot(tiempo, corriente, color='red', linestyle=':', lw=3, label=u'Calefaccion')\n",
    "ax[1].stem(tiempo, a * np.maximum(1, np.maximum(corriente.max(), voltaje.max())), markerfmt='go', linefmt='g-', basefmt='g-', label=u'Puerta abierta')\n",
    "ax[1].set_xlabel('Tiempo de simulación [segundos]', fontsize=18)\n",
    "ax[1].set_ylabel('Accion de control', fontsize=18)\n",
    "ax[1].set_xlim([0, t_simulacion//tm])\n",
    "ax[1].grid(True)\n",
    "ax[1].legend(fontsize=14);"
   ]
  },
  {
   "cell_type": "code",
   "execution_count": null,
   "id": "465bcfe1-1a35-4601-b963-9d3ecdd36278",
   "metadata": {
    "executionInfo": {
     "elapsed": 18,
     "status": "aborted",
     "timestamp": 1656283037962,
     "user": {
      "displayName": "Matias Gerard",
      "userId": "14742050363958170468"
     },
     "user_tz": 180
    },
    "id": "465bcfe1-1a35-4601-b963-9d3ecdd36278"
   },
   "outputs": [],
   "source": []
  }
 ],
 "metadata": {
  "colab": {
   "collapsed_sections": [],
   "name": "GTP 3.ipynb",
   "provenance": []
  },
  "kernelspec": {
   "display_name": "Python 3 (ipykernel)",
   "language": "python",
   "name": "python3"
  },
  "language_info": {
   "codemirror_mode": {
    "name": "ipython",
    "version": 3
   },
   "file_extension": ".py",
   "mimetype": "text/x-python",
   "name": "python",
   "nbconvert_exporter": "python",
   "pygments_lexer": "ipython3",
   "version": "3.10.8"
  }
 },
 "nbformat": 4,
 "nbformat_minor": 5
}
